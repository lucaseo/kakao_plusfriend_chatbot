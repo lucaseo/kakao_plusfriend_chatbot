{
 "cells": [
  {
   "cell_type": "code",
   "execution_count": 1,
   "metadata": {},
   "outputs": [],
   "source": [
    "import requests, json, time\n",
    "import datetime\n",
    "from bs4 import BeautifulSoup\n",
    "# from urllib.request import urlopen\n",
    "import pandas as pd"
   ]
  },
  {
   "cell_type": "code",
   "execution_count": 2,
   "metadata": {},
   "outputs": [],
   "source": [
    "url = 'https://music.bugs.co.kr/chart/track/day/nrh'"
   ]
  },
  {
   "cell_type": "markdown",
   "metadata": {},
   "source": [
    "발라드/댄스/팝 = \"https://music.bugs.co.kr/chart/track/day/nbdp\"\n",
    "랩/힙합 = \"https://music.bugs.co.kr/chart/track/day/nrh\"\n",
    "알앤비/소울 = \"https://music.bugs.co.kr/chart/track/day/nrs\"\n",
    "일렉트로닉 = \"https://music.bugs.co.kr/chart/track/day/nkelec\"\n",
    "락메탈 = \"https://music.bugs.co.kr/chart/track/day/nkrock\""
   ]
  },
  {
   "cell_type": "code",
   "execution_count": 5,
   "metadata": {},
   "outputs": [],
   "source": [
    "# rank 1~5\n",
    "# html = urlopen(url)\n",
    "response = requests.get(url)\n",
    "soup = BeautifulSoup(response.content, 'html.parser')\n",
    "body = soup.select('#CHARTday table tbody')[0]"
   ]
  },
  {
   "cell_type": "code",
   "execution_count": 7,
   "metadata": {},
   "outputs": [],
   "source": [
    "chart = pd.DataFrame(columns = [\"ranking\", \"song\", \"artist\"])\n",
    "\n",
    "for i in range(0, 5):\n",
    "    \n",
    "    tmp_tag = body.find_all('tr')[i]\n",
    "    \n",
    "    rank = tmp_tag.select('td div.ranking strong')[0].get_text()\n",
    "    song = tmp_tag.select('th p a')[0].get_text()\n",
    "    artist = tmp_tag.select('td.left p a')[0].get_text()\n",
    "        \n",
    "    \n",
    "    \n",
    "    data = {\"ranking\" : rank,\n",
    "            \"song\" : song,\n",
    "            \"artist\" : artist,\n",
    "           }\n",
    "\n",
    "    chart.loc[len(chart)] = data"
   ]
  },
  {
   "cell_type": "code",
   "execution_count": 68,
   "metadata": {},
   "outputs": [
    {
     "ename": "NameError",
     "evalue": "name 'chart' is not defined",
     "output_type": "error",
     "traceback": [
      "\u001b[0;31m---------------------------------------------------------------------------\u001b[0m",
      "\u001b[0;31mNameError\u001b[0m                                 Traceback (most recent call last)",
      "\u001b[0;32m<ipython-input-68-29d9b2dd9809>\u001b[0m in \u001b[0;36m<module>\u001b[0;34m()\u001b[0m\n\u001b[0;32m----> 1\u001b[0;31m \u001b[0mchart\u001b[0m\u001b[0;34m\u001b[0m\u001b[0m\n\u001b[0m",
      "\u001b[0;31mNameError\u001b[0m: name 'chart' is not defined"
     ]
    }
   ],
   "source": [
    "chart"
   ]
  },
  {
   "cell_type": "code",
   "execution_count": null,
   "metadata": {},
   "outputs": [],
   "source": []
  }
 ],
 "metadata": {
  "kernelspec": {
   "display_name": "Python 3",
   "language": "python",
   "name": "python3"
  },
  "language_info": {
   "codemirror_mode": {
    "name": "ipython",
    "version": 3
   },
   "file_extension": ".py",
   "mimetype": "text/x-python",
   "name": "python",
   "nbconvert_exporter": "python",
   "pygments_lexer": "ipython3",
   "version": "3.6.2"
  }
 },
 "nbformat": 4,
 "nbformat_minor": 2
}
