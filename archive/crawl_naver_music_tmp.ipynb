{
 "cells": [
  {
   "cell_type": "code",
   "execution_count": 19,
   "metadata": {},
   "outputs": [],
   "source": [
    "import requests, json, time\n",
    "import datetime\n",
    "from bs4 import BeautifulSoup\n",
    "from urllib.request import urlopen\n",
    "import pandas as pd"
   ]
  },
  {
   "cell_type": "code",
   "execution_count": null,
   "metadata": {},
   "outputs": [],
   "source": [
    "url = "
   ]
  },
  {
   "cell_type": "code",
   "execution_count": null,
   "metadata": {},
   "outputs": [],
   "source": [
    "발라드 = \"https://music.naver.com/listen/genre/home.nhn?domain=DOMESTIC&genre=K01\"\n",
    "댄스 = \"https://music.naver.com/listen/genre/home.nhn?domain=DOMESTIC&genre=K02\"\n",
    "힙합 = \"https://music.naver.com/listen/genre/home.nhn?domain=DOMESTIC&genre=K03\"\n",
    "록/포크 = \"https://music.naver.com/listen/genre/home.nhn?domain=DOMESTIC&genre=K04\"\n",
    "트로트 = \"https://music.naver.com/listen/genre/home.nhn?domain=DOMESTIC&genre=K05\""
   ]
  },
  {
   "cell_type": "code",
   "execution_count": 21,
   "metadata": {},
   "outputs": [],
   "source": [
    "# rank 1~5\n",
    "html = urlopen(url)\n",
    "soup = BeautifulSoup(html, 'html.parser')"
   ]
  },
  {
   "cell_type": "code",
   "execution_count": 22,
   "metadata": {},
   "outputs": [],
   "source": [
    "body = soup.select('tbody tr')"
   ]
  },
  {
   "cell_type": "code",
   "execution_count": 23,
   "metadata": {
    "scrolled": false
   },
   "outputs": [],
   "source": [
    "body = body[1:6]"
   ]
  },
  {
   "cell_type": "code",
   "execution_count": 63,
   "metadata": {},
   "outputs": [],
   "source": [
    "melon_genre = pd.DataFrame(columns = [\"Ranking\", \"Song\", \"Artist\"])\n",
    "\n",
    "for i in range(0, 5):\n",
    "    \n",
    "    tmp_tag = body[i]\n",
    "    \n",
    "    rank = tmp_tag.select('td.ranking')[0].get_text()\n",
    "    song = tmp_tag.select('td a._title .ellipsis')[0].get_text()\n",
    "    try:\n",
    "        artist = tmp_tag.select('td a._artist .ellipsis')[0].get_text()\n",
    "        artist = artist[15:-4]\n",
    "    except IndexError:\n",
    "        artist = tmp_tag.select('td._artist.artist.no_ell2 > a')[0].get_text()\n",
    "        \n",
    "    \n",
    "    \n",
    "    data = {\"Ranking\" : rank,\n",
    "            \"Song\" : song,\n",
    "            \"Artist\" : artist,\n",
    "           }\n",
    "\n",
    "    melon_genre.loc[len(melon_genre)] = data"
   ]
  },
  {
   "cell_type": "code",
   "execution_count": 64,
   "metadata": {},
   "outputs": [
    {
     "data": {
      "text/html": [
       "<div>\n",
       "<style scoped>\n",
       "    .dataframe tbody tr th:only-of-type {\n",
       "        vertical-align: middle;\n",
       "    }\n",
       "\n",
       "    .dataframe tbody tr th {\n",
       "        vertical-align: top;\n",
       "    }\n",
       "\n",
       "    .dataframe thead th {\n",
       "        text-align: right;\n",
       "    }\n",
       "</style>\n",
       "<table border=\"1\" class=\"dataframe\">\n",
       "  <thead>\n",
       "    <tr style=\"text-align: right;\">\n",
       "      <th></th>\n",
       "      <th>Ranking</th>\n",
       "      <th>Song</th>\n",
       "      <th>Artist</th>\n",
       "    </tr>\n",
       "  </thead>\n",
       "  <tbody>\n",
       "    <tr>\n",
       "      <th>0</th>\n",
       "      <td>1</td>\n",
       "      <td>너 없인 안 된다</td>\n",
       "      <td>비투비</td>\n",
       "    </tr>\n",
       "    <tr>\n",
       "      <th>1</th>\n",
       "      <td>2</td>\n",
       "      <td>지나오다</td>\n",
       "      <td>닐로(Nilo)</td>\n",
       "    </tr>\n",
       "    <tr>\n",
       "      <th>2</th>\n",
       "      <td>3</td>\n",
       "      <td>안녕 (You &amp; I)</td>\n",
       "      <td>SHINee (샤이니)</td>\n",
       "    </tr>\n",
       "    <tr>\n",
       "      <th>3</th>\n",
       "      <td>4</td>\n",
       "      <td>주지마</td>\n",
       "      <td>로꼬</td>\n",
       "    </tr>\n",
       "    <tr>\n",
       "      <th>4</th>\n",
       "      <td>5</td>\n",
       "      <td>있다면</td>\n",
       "      <td>뉴이스트 W</td>\n",
       "    </tr>\n",
       "  </tbody>\n",
       "</table>\n",
       "</div>"
      ],
      "text/plain": [
       "  Ranking          Song        Artist\n",
       "0       1     너 없인 안 된다           비투비\n",
       "1       2          지나오다      닐로(Nilo)\n",
       "2       3  안녕 (You & I)  SHINee (샤이니)\n",
       "3       4           주지마            로꼬\n",
       "4       5           있다면        뉴이스트 W"
      ]
     },
     "execution_count": 64,
     "metadata": {},
     "output_type": "execute_result"
    }
   ],
   "source": [
    "melon_genre"
   ]
  },
  {
   "cell_type": "code",
   "execution_count": null,
   "metadata": {},
   "outputs": [],
   "source": []
  }
 ],
 "metadata": {
  "kernelspec": {
   "display_name": "Python 3",
   "language": "python",
   "name": "python3"
  },
  "language_info": {
   "codemirror_mode": {
    "name": "ipython",
    "version": 3
   },
   "file_extension": ".py",
   "mimetype": "text/x-python",
   "name": "python",
   "nbconvert_exporter": "python",
   "pygments_lexer": "ipython3",
   "version": "3.6.2"
  }
 },
 "nbformat": 4,
 "nbformat_minor": 2
}
